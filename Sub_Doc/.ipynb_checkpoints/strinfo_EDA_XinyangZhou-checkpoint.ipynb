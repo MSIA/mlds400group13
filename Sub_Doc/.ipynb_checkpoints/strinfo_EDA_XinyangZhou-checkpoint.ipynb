{
 "cells": [
  {
   "cell_type": "code",
   "execution_count": 52,
   "id": "5efa5ee3",
   "metadata": {},
   "outputs": [],
   "source": [
    "import psycopg2\n",
    "\n",
    "try:\n",
    "    conn = psycopg2.connect(\n",
    "        host=\"pg.analytics.northwestern.edu\",\n",
    "        database=\"everything2023\",\n",
    "        user=\"\",\n",
    "        password=\".\"  # It's good practice to mask or securely manage passwords and not hard-code them\n",
    "    )\n",
    "\n",
    "    # Perform database operations here...\n",
    "\n",
    "except Exception as e:\n",
    "    print(f\"An error occurred: {e}\")"
   ]
  },
  {
   "cell_type": "code",
   "execution_count": 53,
   "id": "b723f11d",
   "metadata": {},
   "outputs": [],
   "source": [
    "cursor = conn.cursor()\n",
    "sql_query = \"SELECT * FROM group_1.strinfo;\"\n",
    "cursor.execute(sql_query)"
   ]
  },
  {
   "cell_type": "code",
   "execution_count": 54,
   "id": "fdccd3ab",
   "metadata": {},
   "outputs": [],
   "source": [
    "import pandas as pd"
   ]
  },
  {
   "cell_type": "code",
   "execution_count": 55,
   "id": "3230bbce",
   "metadata": {},
   "outputs": [],
   "source": [
    "# the final dataframe from sqlite\n",
    "data = pd.DataFrame(cursor.fetchall())"
   ]
  },
  {
   "cell_type": "code",
   "execution_count": 56,
   "id": "07bfa098",
   "metadata": {},
   "outputs": [
    {
     "data": {
      "text/html": [
       "<div>\n",
       "<style scoped>\n",
       "    .dataframe tbody tr th:only-of-type {\n",
       "        vertical-align: middle;\n",
       "    }\n",
       "\n",
       "    .dataframe tbody tr th {\n",
       "        vertical-align: top;\n",
       "    }\n",
       "\n",
       "    .dataframe thead th {\n",
       "        text-align: right;\n",
       "    }\n",
       "</style>\n",
       "<table border=\"1\" class=\"dataframe\">\n",
       "  <thead>\n",
       "    <tr style=\"text-align: right;\">\n",
       "      <th></th>\n",
       "      <th>0</th>\n",
       "      <th>1</th>\n",
       "      <th>2</th>\n",
       "      <th>3</th>\n",
       "      <th>4</th>\n",
       "    </tr>\n",
       "  </thead>\n",
       "  <tbody>\n",
       "    <tr>\n",
       "      <th>0</th>\n",
       "      <td>3</td>\n",
       "      <td>ST. LOUIS</td>\n",
       "      <td>MO</td>\n",
       "      <td>63126</td>\n",
       "      <td>0</td>\n",
       "    </tr>\n",
       "    <tr>\n",
       "      <th>1</th>\n",
       "      <td>4</td>\n",
       "      <td>LITTLE ROCK</td>\n",
       "      <td>AR</td>\n",
       "      <td>72201</td>\n",
       "      <td>0</td>\n",
       "    </tr>\n",
       "    <tr>\n",
       "      <th>2</th>\n",
       "      <td>7</td>\n",
       "      <td>FORT WORTH</td>\n",
       "      <td>TX</td>\n",
       "      <td>76137</td>\n",
       "      <td>0</td>\n",
       "    </tr>\n",
       "    <tr>\n",
       "      <th>3</th>\n",
       "      <td>9</td>\n",
       "      <td>TEMPE</td>\n",
       "      <td>AZ</td>\n",
       "      <td>85281</td>\n",
       "      <td>0</td>\n",
       "    </tr>\n",
       "    <tr>\n",
       "      <th>4</th>\n",
       "      <td>60</td>\n",
       "      <td>ASPEN</td>\n",
       "      <td>CO</td>\n",
       "      <td>81611</td>\n",
       "      <td>0</td>\n",
       "    </tr>\n",
       "    <tr>\n",
       "      <th>...</th>\n",
       "      <td>...</td>\n",
       "      <td>...</td>\n",
       "      <td>...</td>\n",
       "      <td>...</td>\n",
       "      <td>...</td>\n",
       "    </tr>\n",
       "    <tr>\n",
       "      <th>447</th>\n",
       "      <td>9808</td>\n",
       "      <td>GILBERT</td>\n",
       "      <td>AZ</td>\n",
       "      <td>85233</td>\n",
       "      <td>0</td>\n",
       "    </tr>\n",
       "    <tr>\n",
       "      <th>448</th>\n",
       "      <td>9812</td>\n",
       "      <td>METAIRIE</td>\n",
       "      <td>LA</td>\n",
       "      <td>70006</td>\n",
       "      <td>0</td>\n",
       "    </tr>\n",
       "    <tr>\n",
       "      <th>449</th>\n",
       "      <td>9900</td>\n",
       "      <td>LITTLE ROCK</td>\n",
       "      <td>AR</td>\n",
       "      <td>72201</td>\n",
       "      <td>0</td>\n",
       "    </tr>\n",
       "    <tr>\n",
       "      <th>450</th>\n",
       "      <td>9906</td>\n",
       "      <td>LITTLE ROCK</td>\n",
       "      <td>AR</td>\n",
       "      <td>72201</td>\n",
       "      <td>0</td>\n",
       "    </tr>\n",
       "    <tr>\n",
       "      <th>451</th>\n",
       "      <td>9909</td>\n",
       "      <td>CHEYENNE</td>\n",
       "      <td>WY</td>\n",
       "      <td>82009</td>\n",
       "      <td>1</td>\n",
       "    </tr>\n",
       "  </tbody>\n",
       "</table>\n",
       "<p>452 rows × 5 columns</p>\n",
       "</div>"
      ],
      "text/plain": [
       "        0                     1   2      3  4\n",
       "0       3  ST. LOUIS             MO  63126  0\n",
       "1       4  LITTLE ROCK           AR  72201  0\n",
       "2       7  FORT WORTH            TX  76137  0\n",
       "3       9  TEMPE                 AZ  85281  0\n",
       "4      60  ASPEN                 CO  81611  0\n",
       "..    ...                   ...  ..    ... ..\n",
       "447  9808  GILBERT               AZ  85233  0\n",
       "448  9812  METAIRIE              LA  70006  0\n",
       "449  9900  LITTLE ROCK           AR  72201  0\n",
       "450  9906  LITTLE ROCK           AR  72201  0\n",
       "451  9909  CHEYENNE              WY  82009  1\n",
       "\n",
       "[452 rows x 5 columns]"
      ]
     },
     "execution_count": 56,
     "metadata": {},
     "output_type": "execute_result"
    }
   ],
   "source": [
    "data"
   ]
  },
  {
   "cell_type": "code",
   "execution_count": 57,
   "id": "7d91cf83",
   "metadata": {},
   "outputs": [
    {
     "data": {
      "text/html": [
       "<div>\n",
       "<style scoped>\n",
       "    .dataframe tbody tr th:only-of-type {\n",
       "        vertical-align: middle;\n",
       "    }\n",
       "\n",
       "    .dataframe tbody tr th {\n",
       "        vertical-align: top;\n",
       "    }\n",
       "\n",
       "    .dataframe thead th {\n",
       "        text-align: right;\n",
       "    }\n",
       "</style>\n",
       "<table border=\"1\" class=\"dataframe\">\n",
       "  <thead>\n",
       "    <tr style=\"text-align: right;\">\n",
       "      <th></th>\n",
       "      <th>store</th>\n",
       "      <th>city</th>\n",
       "      <th>state</th>\n",
       "      <th>zip</th>\n",
       "      <th>x</th>\n",
       "    </tr>\n",
       "  </thead>\n",
       "  <tbody>\n",
       "    <tr>\n",
       "      <th>0</th>\n",
       "      <td>3</td>\n",
       "      <td>ST. LOUIS</td>\n",
       "      <td>MO</td>\n",
       "      <td>63126</td>\n",
       "      <td>0</td>\n",
       "    </tr>\n",
       "    <tr>\n",
       "      <th>1</th>\n",
       "      <td>4</td>\n",
       "      <td>LITTLE ROCK</td>\n",
       "      <td>AR</td>\n",
       "      <td>72201</td>\n",
       "      <td>0</td>\n",
       "    </tr>\n",
       "    <tr>\n",
       "      <th>2</th>\n",
       "      <td>7</td>\n",
       "      <td>FORT WORTH</td>\n",
       "      <td>TX</td>\n",
       "      <td>76137</td>\n",
       "      <td>0</td>\n",
       "    </tr>\n",
       "    <tr>\n",
       "      <th>3</th>\n",
       "      <td>9</td>\n",
       "      <td>TEMPE</td>\n",
       "      <td>AZ</td>\n",
       "      <td>85281</td>\n",
       "      <td>0</td>\n",
       "    </tr>\n",
       "    <tr>\n",
       "      <th>4</th>\n",
       "      <td>60</td>\n",
       "      <td>ASPEN</td>\n",
       "      <td>CO</td>\n",
       "      <td>81611</td>\n",
       "      <td>0</td>\n",
       "    </tr>\n",
       "    <tr>\n",
       "      <th>...</th>\n",
       "      <td>...</td>\n",
       "      <td>...</td>\n",
       "      <td>...</td>\n",
       "      <td>...</td>\n",
       "      <td>...</td>\n",
       "    </tr>\n",
       "    <tr>\n",
       "      <th>447</th>\n",
       "      <td>9808</td>\n",
       "      <td>GILBERT</td>\n",
       "      <td>AZ</td>\n",
       "      <td>85233</td>\n",
       "      <td>0</td>\n",
       "    </tr>\n",
       "    <tr>\n",
       "      <th>448</th>\n",
       "      <td>9812</td>\n",
       "      <td>METAIRIE</td>\n",
       "      <td>LA</td>\n",
       "      <td>70006</td>\n",
       "      <td>0</td>\n",
       "    </tr>\n",
       "    <tr>\n",
       "      <th>449</th>\n",
       "      <td>9900</td>\n",
       "      <td>LITTLE ROCK</td>\n",
       "      <td>AR</td>\n",
       "      <td>72201</td>\n",
       "      <td>0</td>\n",
       "    </tr>\n",
       "    <tr>\n",
       "      <th>450</th>\n",
       "      <td>9906</td>\n",
       "      <td>LITTLE ROCK</td>\n",
       "      <td>AR</td>\n",
       "      <td>72201</td>\n",
       "      <td>0</td>\n",
       "    </tr>\n",
       "    <tr>\n",
       "      <th>451</th>\n",
       "      <td>9909</td>\n",
       "      <td>CHEYENNE</td>\n",
       "      <td>WY</td>\n",
       "      <td>82009</td>\n",
       "      <td>1</td>\n",
       "    </tr>\n",
       "  </tbody>\n",
       "</table>\n",
       "<p>452 rows × 5 columns</p>\n",
       "</div>"
      ],
      "text/plain": [
       "     store                  city state    zip  x\n",
       "0        3  ST. LOUIS               MO  63126  0\n",
       "1        4  LITTLE ROCK             AR  72201  0\n",
       "2        7  FORT WORTH              TX  76137  0\n",
       "3        9  TEMPE                   AZ  85281  0\n",
       "4       60  ASPEN                   CO  81611  0\n",
       "..     ...                   ...   ...    ... ..\n",
       "447   9808  GILBERT                 AZ  85233  0\n",
       "448   9812  METAIRIE                LA  70006  0\n",
       "449   9900  LITTLE ROCK             AR  72201  0\n",
       "450   9906  LITTLE ROCK             AR  72201  0\n",
       "451   9909  CHEYENNE                WY  82009  1\n",
       "\n",
       "[452 rows x 5 columns]"
      ]
     },
     "execution_count": 57,
     "metadata": {},
     "output_type": "execute_result"
    }
   ],
   "source": [
    "data.columns = ['store', 'city', 'state', 'zip', 'x']\n",
    "data"
   ]
  },
  {
   "cell_type": "code",
   "execution_count": 58,
   "id": "431965f6",
   "metadata": {},
   "outputs": [],
   "source": [
    "import numpy as np"
   ]
  },
  {
   "cell_type": "code",
   "execution_count": 65,
   "id": "6e9f8c31",
   "metadata": {},
   "outputs": [],
   "source": [
    "# drop unknown column\n",
    "data = data[['store', 'city', 'state', 'zip']]"
   ]
  },
  {
   "cell_type": "code",
   "execution_count": 66,
   "id": "43c7fd84",
   "metadata": {},
   "outputs": [
    {
     "data": {
      "text/html": [
       "<div>\n",
       "<style scoped>\n",
       "    .dataframe tbody tr th:only-of-type {\n",
       "        vertical-align: middle;\n",
       "    }\n",
       "\n",
       "    .dataframe tbody tr th {\n",
       "        vertical-align: top;\n",
       "    }\n",
       "\n",
       "    .dataframe thead th {\n",
       "        text-align: right;\n",
       "    }\n",
       "</style>\n",
       "<table border=\"1\" class=\"dataframe\">\n",
       "  <thead>\n",
       "    <tr style=\"text-align: right;\">\n",
       "      <th></th>\n",
       "      <th>store</th>\n",
       "      <th>city</th>\n",
       "      <th>state</th>\n",
       "      <th>zip</th>\n",
       "    </tr>\n",
       "  </thead>\n",
       "  <tbody>\n",
       "    <tr>\n",
       "      <th>0</th>\n",
       "      <td>3</td>\n",
       "      <td>ST. LOUIS</td>\n",
       "      <td>MO</td>\n",
       "      <td>63126</td>\n",
       "    </tr>\n",
       "    <tr>\n",
       "      <th>1</th>\n",
       "      <td>4</td>\n",
       "      <td>LITTLE ROCK</td>\n",
       "      <td>AR</td>\n",
       "      <td>72201</td>\n",
       "    </tr>\n",
       "    <tr>\n",
       "      <th>2</th>\n",
       "      <td>7</td>\n",
       "      <td>FORT WORTH</td>\n",
       "      <td>TX</td>\n",
       "      <td>76137</td>\n",
       "    </tr>\n",
       "    <tr>\n",
       "      <th>3</th>\n",
       "      <td>9</td>\n",
       "      <td>TEMPE</td>\n",
       "      <td>AZ</td>\n",
       "      <td>85281</td>\n",
       "    </tr>\n",
       "    <tr>\n",
       "      <th>4</th>\n",
       "      <td>60</td>\n",
       "      <td>ASPEN</td>\n",
       "      <td>CO</td>\n",
       "      <td>81611</td>\n",
       "    </tr>\n",
       "    <tr>\n",
       "      <th>...</th>\n",
       "      <td>...</td>\n",
       "      <td>...</td>\n",
       "      <td>...</td>\n",
       "      <td>...</td>\n",
       "    </tr>\n",
       "    <tr>\n",
       "      <th>447</th>\n",
       "      <td>9808</td>\n",
       "      <td>GILBERT</td>\n",
       "      <td>AZ</td>\n",
       "      <td>85233</td>\n",
       "    </tr>\n",
       "    <tr>\n",
       "      <th>448</th>\n",
       "      <td>9812</td>\n",
       "      <td>METAIRIE</td>\n",
       "      <td>LA</td>\n",
       "      <td>70006</td>\n",
       "    </tr>\n",
       "    <tr>\n",
       "      <th>449</th>\n",
       "      <td>9900</td>\n",
       "      <td>LITTLE ROCK</td>\n",
       "      <td>AR</td>\n",
       "      <td>72201</td>\n",
       "    </tr>\n",
       "    <tr>\n",
       "      <th>450</th>\n",
       "      <td>9906</td>\n",
       "      <td>LITTLE ROCK</td>\n",
       "      <td>AR</td>\n",
       "      <td>72201</td>\n",
       "    </tr>\n",
       "    <tr>\n",
       "      <th>451</th>\n",
       "      <td>9909</td>\n",
       "      <td>CHEYENNE</td>\n",
       "      <td>WY</td>\n",
       "      <td>82009</td>\n",
       "    </tr>\n",
       "  </tbody>\n",
       "</table>\n",
       "<p>452 rows × 4 columns</p>\n",
       "</div>"
      ],
      "text/plain": [
       "     store                  city state    zip\n",
       "0        3  ST. LOUIS               MO  63126\n",
       "1        4  LITTLE ROCK             AR  72201\n",
       "2        7  FORT WORTH              TX  76137\n",
       "3        9  TEMPE                   AZ  85281\n",
       "4       60  ASPEN                   CO  81611\n",
       "..     ...                   ...   ...    ...\n",
       "447   9808  GILBERT                 AZ  85233\n",
       "448   9812  METAIRIE                LA  70006\n",
       "449   9900  LITTLE ROCK             AR  72201\n",
       "450   9906  LITTLE ROCK             AR  72201\n",
       "451   9909  CHEYENNE                WY  82009\n",
       "\n",
       "[452 rows x 4 columns]"
      ]
     },
     "execution_count": 66,
     "metadata": {},
     "output_type": "execute_result"
    }
   ],
   "source": [
    "data"
   ]
  },
  {
   "cell_type": "code",
   "execution_count": 67,
   "id": "028733e2",
   "metadata": {},
   "outputs": [
    {
     "data": {
      "text/plain": [
       "298"
      ]
     },
     "execution_count": 67,
     "metadata": {},
     "output_type": "execute_result"
    }
   ],
   "source": [
    "# how many unique city there is?\n",
    "data['city'].nunique()"
   ]
  },
  {
   "cell_type": "code",
   "execution_count": 68,
   "id": "4318ea10",
   "metadata": {},
   "outputs": [
    {
     "data": {
      "text/plain": [
       "31"
      ]
     },
     "execution_count": 68,
     "metadata": {},
     "output_type": "execute_result"
    }
   ],
   "source": [
    "# how many states does the dataset contains?\n",
    "data['state'].nunique()"
   ]
  },
  {
   "cell_type": "code",
   "execution_count": 69,
   "id": "277cdcae",
   "metadata": {},
   "outputs": [
    {
     "data": {
      "text/plain": [
       "391"
      ]
     },
     "execution_count": 69,
     "metadata": {},
     "output_type": "execute_result"
    }
   ],
   "source": [
    "# is there any same zip code, meaning any two store are close to each other?\n",
    "data['zip'].nunique()\n",
    "# yes there are some stores having the same zip codes"
   ]
  },
  {
   "cell_type": "code",
   "execution_count": 70,
   "id": "627972d4",
   "metadata": {},
   "outputs": [
    {
     "data": {
      "text/plain": [
       "452"
      ]
     },
     "execution_count": 70,
     "metadata": {},
     "output_type": "execute_result"
    }
   ],
   "source": [
    "# are there any duplications on the store ID?\n",
    "data['store'].nunique()\n",
    "# no there isn't"
   ]
  },
  {
   "cell_type": "code",
   "execution_count": 72,
   "id": "9d491123",
   "metadata": {},
   "outputs": [
    {
     "name": "stdout",
     "output_type": "stream",
     "text": [
      "['MO' 'AR' 'TX' 'AZ' 'CO' 'OK' 'NC' 'FL' 'GA' 'KS' 'KY' 'CA' 'IL' 'TN'\n",
      " 'LA' 'MS' 'NM' 'UT' 'ID' 'MT' 'NJ' 'AL' 'IA' 'NE' 'NV' 'NY' 'OH' 'IN'\n",
      " 'SC' 'VA' 'WY']\n"
     ]
    }
   ],
   "source": [
    "# what are the states?\n",
    "print(data['state'].unique())"
   ]
  },
  {
   "cell_type": "code",
   "execution_count": 76,
   "id": "76b539c1",
   "metadata": {},
   "outputs": [
    {
     "name": "stdout",
     "output_type": "stream",
     "text": [
      "TX    0.174779\n",
      "FL    0.103982\n",
      "AR    0.059735\n",
      "AZ    0.057522\n",
      "OH    0.055310\n",
      "NC    0.053097\n",
      "LA    0.048673\n",
      "MO    0.044248\n",
      "TN    0.042035\n",
      "GA    0.035398\n",
      "OK    0.033186\n",
      "KS    0.033186\n",
      "KY    0.030973\n",
      "CO    0.030973\n",
      "AL    0.028761\n",
      "VA    0.022124\n",
      "CA    0.017699\n",
      "SC    0.017699\n",
      "MS    0.015487\n",
      "UT    0.013274\n",
      "NM    0.013274\n",
      "IA    0.011062\n",
      "NV    0.011062\n",
      "NE    0.008850\n",
      "MT    0.006637\n",
      "NJ    0.006637\n",
      "ID    0.006637\n",
      "IL    0.006637\n",
      "NY    0.004425\n",
      "IN    0.004425\n",
      "WY    0.002212\n",
      "Name: state, dtype: float64\n"
     ]
    }
   ],
   "source": [
    "# what is the percentage breakdowns for each state \n",
    "print(data['state'].value_counts()/len(data))\n",
    "# so TX is the most frequent state in the dataset, meaning we have the majority of stores located in TX"
   ]
  },
  {
   "cell_type": "code",
   "execution_count": 77,
   "id": "be8fd3c9",
   "metadata": {},
   "outputs": [
    {
     "name": "stdout",
     "output_type": "stream",
     "text": [
      "LITTLE ROCK             0.033186\n",
      "OLATHE                  0.015487\n",
      "GILBERT                 0.015487\n",
      "SAN ANTONIO             0.015487\n",
      "HOUSTON                 0.015487\n",
      "                          ...   \n",
      "BILLINGS                0.002212\n",
      "WEST DES MOINES         0.002212\n",
      "AMARILLO                0.002212\n",
      "LAKELAND                0.002212\n",
      "CHEYENNE                0.002212\n",
      "Name: city, Length: 298, dtype: float64\n"
     ]
    }
   ],
   "source": [
    "# what is the percentage breakdowns for each city\n",
    "print(data['city'].value_counts()/len(data))\n",
    "# we have the most stores in Little Rock\n"
   ]
  },
  {
   "cell_type": "code",
   "execution_count": 88,
   "id": "422fa1f9",
   "metadata": {},
   "outputs": [
    {
     "data": {
      "text/plain": [
       "LITTLE ROCK             15\n",
       "GILBERT                  7\n",
       "SAN ANTONIO              7\n",
       "HOUSTON                  7\n",
       "OLATHE                   7\n",
       "                        ..\n",
       "MIDWEST CITY             1\n",
       "LONGMONT                 1\n",
       "SHAWNEE                  1\n",
       "LAWTON                   1\n",
       "CHEYENNE                 1\n",
       "Name: city, Length: 298, dtype: int64"
      ]
     },
     "execution_count": 88,
     "metadata": {},
     "output_type": "execute_result"
    }
   ],
   "source": [
    "# we have 15 stores in Little Rock\n",
    "(data['city']).value_counts().sort_values(ascending = False)"
   ]
  },
  {
   "cell_type": "code",
   "execution_count": null,
   "id": "2c47cfd2",
   "metadata": {},
   "outputs": [],
   "source": []
  },
  {
   "cell_type": "code",
   "execution_count": null,
   "id": "ca9b0be6",
   "metadata": {},
   "outputs": [],
   "source": []
  }
 ],
 "metadata": {
  "kernelspec": {
   "display_name": "Python 3 (ipykernel)",
   "language": "python",
   "name": "python3"
  },
  "language_info": {
   "codemirror_mode": {
    "name": "ipython",
    "version": 3
   },
   "file_extension": ".py",
   "mimetype": "text/x-python",
   "name": "python",
   "nbconvert_exporter": "python",
   "pygments_lexer": "ipython3",
   "version": "3.11.5"
  }
 },
 "nbformat": 4,
 "nbformat_minor": 5
}
